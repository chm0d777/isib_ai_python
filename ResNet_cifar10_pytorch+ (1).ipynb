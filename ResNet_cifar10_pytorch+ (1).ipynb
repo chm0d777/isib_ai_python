{
  "cells": [
    {
      "cell_type": "code",
      "execution_count": null,
      "metadata": {
        "id": "p7bEp5uq_Ut8"
      },
      "outputs": [],
      "source": [
        "import torch\n",
        "import torch.nn as nn\n",
        "import torchvision\n",
        "import torchvision.transforms as transforms\n",
        "from torchvision import models\n"
      ]
    },
    {
      "cell_type": "code",
      "execution_count": null,
      "metadata": {
        "colab": {
          "base_uri": "https://localhost:8080/"
        },
        "id": "F9OQqWlH_RNW",
        "outputId": "b86e653d-8343-4215-9577-a26040005447"
      },
      "outputs": [
        {
          "name": "stdout",
          "output_type": "stream",
          "text": [
            "Downloading https://www.cs.toronto.edu/~kriz/cifar-10-python.tar.gz to ../../data/cifar-10-python.tar.gz\n"
          ]
        },
        {
          "name": "stderr",
          "output_type": "stream",
          "text": [
            "100%|██████████| 170498071/170498071 [00:02<00:00, 70667980.43it/s]\n"
          ]
        },
        {
          "name": "stdout",
          "output_type": "stream",
          "text": [
            "Extracting ../../data/cifar-10-python.tar.gz to ../../data/\n"
          ]
        }
      ],
      "source": [
        "\n",
        "\n",
        "# Device configuration\n",
        "device = torch.device('cuda' if torch.cuda.is_available() else 'cpu')\n",
        "\n",
        "# Hyper-parameters\n",
        "num_epochs = 10\n",
        "learning_rate = 0.001\n",
        "\n",
        "# Image preprocessing modules\n",
        "transform = transforms.Compose([\n",
        "    # transforms.Pad(4),\n",
        "    # transforms.RandomHorizontalFlip(),\n",
        "    # transforms.RandomCrop(32),\n",
        "    transforms.ToTensor()])\n",
        "\n",
        "# CIFAR-10 dataset\n",
        "train_dataset = torchvision.datasets.CIFAR10(root='../../data/',\n",
        "                                             train=True,\n",
        "                                             transform=transform,\n",
        "                                             download=True)\n",
        "\n",
        "test_dataset = torchvision.datasets.CIFAR10(root='../../data/',\n",
        "                                            train=False,\n",
        "                                            transform=transforms.ToTensor())\n",
        "\n",
        "# Data loader\n",
        "train_loader = torch.utils.data.DataLoader(dataset=train_dataset,\n",
        "                                           batch_size=100,\n",
        "                                           shuffle=True)\n",
        "\n",
        "test_loader = torch.utils.data.DataLoader(dataset=test_dataset,\n",
        "                                          batch_size=100,\n",
        "                                          shuffle=False)"
      ]
    },
    {
      "cell_type": "code",
      "execution_count": null,
      "metadata": {
        "id": "iATH4eYY_Z4E"
      },
      "outputs": [],
      "source": [
        "# первый вариант проектирования ResNet:\n",
        "\n",
        "\n",
        "# 3x3 convolution\n",
        "def conv3x3(in_channels, out_channels, stride=1):\n",
        "    return nn.Conv2d(in_channels, out_channels, kernel_size=3,\n",
        "                     stride=stride, padding=1, bias=False)\n",
        "\n",
        "# Residual block\n",
        "class ResidualBlock(nn.Module):\n",
        "    def __init__(self, in_channels, out_channels, stride=1, downsample=None):\n",
        "        super(ResidualBlock, self).__init__()\n",
        "        self.conv1 = conv3x3(in_channels, out_channels, stride)\n",
        "        self.bn1 = nn.BatchNorm2d(out_channels)\n",
        "        self.relu = nn.ReLU(inplace=True)\n",
        "        self.conv2 = conv3x3(out_channels, out_channels)\n",
        "        self.bn2 = nn.BatchNorm2d(out_channels)\n",
        "        self.downsample = downsample\n",
        "\n",
        "    def forward(self, x):\n",
        "        residual = x\n",
        "        out = self.conv1(x)\n",
        "        out = self.bn1(out)\n",
        "        out = self.relu(out)\n",
        "        out = self.conv2(out)\n",
        "        out = self.bn2(out)\n",
        "        if self.downsample:\n",
        "            residual = self.downsample(x)\n",
        "        out += residual\n",
        "        out = self.relu(out)\n",
        "        return out\n",
        "\n",
        "# ResNet\n",
        "class ResNet(nn.Module):\n",
        "    def __init__(self, block, layers, num_classes=10):\n",
        "        super(ResNet, self).__init__()\n",
        "        self.in_channels = 16\n",
        "        self.conv = conv3x3(3, 16)\n",
        "        self.bn = nn.BatchNorm2d(16)\n",
        "        self.relu = nn.ReLU(inplace=True)\n",
        "        self.layer1 = self.make_layer(block, 16, layers[0])\n",
        "        self.layer2 = self.make_layer(block, 32, layers[1], 2)\n",
        "        self.layer3 = self.make_layer(block, 64, layers[2], 2)\n",
        "        self.avg_pool = nn.AvgPool2d(8)\n",
        "        self.fc = nn.Linear(64, num_classes)\n",
        "\n",
        "    def make_layer(self, block, out_channels, blocks, stride=1):\n",
        "        downsample = None\n",
        "        if (stride != 1) or (self.in_channels != out_channels):\n",
        "            downsample = nn.Sequential(\n",
        "                conv3x3(self.in_channels, out_channels, stride=stride),\n",
        "                nn.BatchNorm2d(out_channels))\n",
        "        layers = []\n",
        "        layers.append(block(self.in_channels, out_channels, stride, downsample))\n",
        "        self.in_channels = out_channels\n",
        "        for i in range(1, blocks):\n",
        "            layers.append(block(out_channels, out_channels))\n",
        "        return nn.Sequential(*layers)\n",
        "\n",
        "    def forward(self, x):\n",
        "        out = self.conv(x)\n",
        "        out = self.bn(out)\n",
        "        out = self.relu(out)\n",
        "        out = self.layer1(out)\n",
        "        out = self.layer2(out)\n",
        "        out = self.layer3(out)\n",
        "        out = self.avg_pool(out)\n",
        "        out = out.view(out.size(0), -1)\n",
        "        out = self.fc(out)\n",
        "        return out\n",
        "\n",
        "model = ResNet(ResidualBlock, [2, 2, 2]).to(device)"
      ]
    },
    {
      "cell_type": "code",
      "execution_count": null,
      "metadata": {
        "id": "jMfiDysi_e_3"
      },
      "outputs": [],
      "source": [
        "#  второй вариант ResNet - из pytorch.torchvision.models:\n",
        "\n",
        "model = models.resnet18(pretrained=True)\n",
        "# Disable grad for all conv layers\n",
        "# for param in model.parameters():\n",
        "#     param.requires_grad = False\n",
        "\n",
        "model.fc = torch.nn.Linear(model.fc.in_features, 10)\n",
        "model=model.to(device)"
      ]
    },
    {
      "cell_type": "code",
      "execution_count": null,
      "metadata": {
        "colab": {
          "background_save": true,
          "base_uri": "https://localhost:8080/"
        },
        "id": "aFncyDKNHru_",
        "outputId": "d28251d3-4221-4e3a-e11c-1794788e8345"
      },
      "outputs": [
        {
          "metadata": {
            "tags": null
          },
          "name": "stdout",
          "output_type": "stream",
          "text": [
            "Epoch [1/10], Step [100/500] Loss: 0.9529\n",
            "Epoch [1/10], Step [200/500] Loss: 0.8916\n",
            "Epoch [1/10], Step [300/500] Loss: 0.6567\n",
            "Epoch [1/10], Step [400/500] Loss: 0.8370\n",
            "Epoch [1/10], Step [500/500] Loss: 0.6015\n",
            "Accuracy of the model on the test images: 66.9 %\n",
            "Epoch [2/10], Step [100/500] Loss: 0.5232\n",
            "Epoch [2/10], Step [200/500] Loss: 0.3264\n",
            "Epoch [2/10], Step [300/500] Loss: 0.5716\n",
            "Epoch [2/10], Step [400/500] Loss: 0.5739\n",
            "Epoch [2/10], Step [500/500] Loss: 0.4624\n",
            "Accuracy of the model on the test images: 75.61 %\n",
            "Epoch [3/10], Step [100/500] Loss: 0.5628\n",
            "Epoch [3/10], Step [200/500] Loss: 0.5249\n",
            "Epoch [3/10], Step [300/500] Loss: 0.3707\n",
            "Epoch [3/10], Step [400/500] Loss: 0.4352\n",
            "Epoch [3/10], Step [500/500] Loss: 0.4344\n",
            "Accuracy of the model on the test images: 79.22 %\n",
            "Epoch [4/10], Step [100/500] Loss: 0.4298\n",
            "Epoch [4/10], Step [200/500] Loss: 0.4053\n",
            "Epoch [4/10], Step [300/500] Loss: 0.3778\n",
            "Epoch [4/10], Step [400/500] Loss: 0.3650\n",
            "Epoch [4/10], Step [500/500] Loss: 0.3590\n",
            "Accuracy of the model on the test images: 80.36 %\n",
            "Epoch [5/10], Step [100/500] Loss: 0.4410\n",
            "Epoch [5/10], Step [200/500] Loss: 0.2264\n",
            "Epoch [5/10], Step [300/500] Loss: 0.2371\n",
            "Epoch [5/10], Step [400/500] Loss: 0.2654\n",
            "Epoch [5/10], Step [500/500] Loss: 0.2530\n",
            "Accuracy of the model on the test images: 80.75 %\n",
            "Epoch [6/10], Step [100/500] Loss: 0.2281\n",
            "Epoch [6/10], Step [200/500] Loss: 0.4045\n",
            "Epoch [6/10], Step [300/500] Loss: 0.3128\n",
            "Epoch [6/10], Step [400/500] Loss: 0.2756\n",
            "Epoch [6/10], Step [500/500] Loss: 0.4664\n",
            "Accuracy of the model on the test images: 77.99 %\n",
            "Epoch [7/10], Step [100/500] Loss: 0.2306\n",
            "Epoch [7/10], Step [200/500] Loss: 0.2287\n",
            "Epoch [7/10], Step [300/500] Loss: 0.2448\n",
            "Epoch [7/10], Step [400/500] Loss: 0.1826\n",
            "Epoch [7/10], Step [500/500] Loss: 0.1439\n",
            "Accuracy of the model on the test images: 80.14 %\n",
            "Epoch [8/10], Step [100/500] Loss: 0.1383\n",
            "Epoch [8/10], Step [200/500] Loss: 0.2924\n",
            "Epoch [8/10], Step [300/500] Loss: 0.1774\n"
          ]
        }
      ],
      "source": [
        "\n",
        "\n",
        "\n",
        "# Loss and optimizer\n",
        "criterion = nn.CrossEntropyLoss()\n",
        "optimizer = torch.optim.Adam(model.parameters(), lr=learning_rate)\n",
        "\n",
        "# For updating learning rate\n",
        "def update_lr(optimizer, lr):\n",
        "    for param_group in optimizer.param_groups:\n",
        "        param_group['lr'] = lr\n",
        "\n",
        "# Train the model\n",
        "total_step = len(train_loader)\n",
        "curr_lr = learning_rate\n",
        "for epoch in range(num_epochs):\n",
        "    model.train()\n",
        "    for i, (images, labels) in enumerate(train_loader):\n",
        "        images = images.to(device)\n",
        "        labels = labels.to(device)\n",
        "\n",
        "        # Forward pass\n",
        "        outputs = model(images)\n",
        "        loss = criterion(outputs, labels)\n",
        "\n",
        "        # Backward and optimize\n",
        "        optimizer.zero_grad()\n",
        "        loss.backward()\n",
        "        optimizer.step()\n",
        "\n",
        "        if (i+1) % 100 == 0:\n",
        "            print (\"Epoch [{}/{}], Step [{}/{}] Loss: {:.4f}\"\n",
        "                   .format(epoch+1, num_epochs, i+1, total_step, loss.item()))\n",
        "\n",
        "    # Decay learning rate\n",
        "    if (epoch+1) % 20 == 0:\n",
        "        curr_lr /= 3\n",
        "        update_lr(optimizer, curr_lr)\n",
        "\n",
        "    # Test the model\n",
        "    model.eval()\n",
        "    with torch.no_grad():\n",
        "        correct = 0\n",
        "        total = 0\n",
        "        for images, labels in test_loader:\n",
        "            images = images.to(device)\n",
        "            labels = labels.to(device)\n",
        "            outputs = model(images)\n",
        "            _, predicted = torch.max(outputs.data, 1)\n",
        "            total += labels.size(0)\n",
        "            correct += (predicted == labels).sum().item()\n",
        "\n",
        "        print('Accuracy of the model on the test images: {} %'.format(100 * correct / total))\n",
        "\n",
        "# Save the model checkpoint\n",
        "torch.save(model.state_dict(), 'resnet.ckpt')"
      ]
    },
    {
      "cell_type": "code",
      "execution_count": null,
      "metadata": {
        "id": "hxsKewbz_Pcn"
      },
      "outputs": [],
      "source": []
    },
    {
      "cell_type": "code",
      "execution_count": null,
      "metadata": {
        "id": "ZPZwPhxq_Me3"
      },
      "outputs": [],
      "source": []
    },
    {
      "cell_type": "code",
      "execution_count": null,
      "metadata": {
        "id": "LfRygKvsQflS"
      },
      "outputs": [],
      "source": [
        "# import torch\n",
        "# model = torch.hub.load('pytorch/vision:v0.10.0', 'resnet18', pretrained=True)\n",
        "# # or any of these variants\n",
        "# # model = torch.hub.load('pytorch/vision:v0.10.0', 'resnet34', pretrained=True)\n",
        "# # model = torch.hub.load('pytorch/vision:v0.10.0', 'resnet50', pretrained=True)\n",
        "# # model = torch.hub.load('pytorch/vision:v0.10.0', 'resnet101', pretrained=True)\n",
        "# # model = torch.hub.load('pytorch/vision:v0.10.0', 'resnet152', pretrained=True)\n",
        "# model.eval()"
      ]
    }
  ],
  "metadata": {
    "colab": {
      "provenance": []
    },
    "kernelspec": {
      "display_name": "Python 3",
      "name": "python3"
    },
    "language_info": {
      "name": "python"
    }
  },
  "nbformat": 4,
  "nbformat_minor": 0
}