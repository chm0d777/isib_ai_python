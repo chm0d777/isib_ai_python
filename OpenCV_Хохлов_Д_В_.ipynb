{
  "nbformat": 4,
  "nbformat_minor": 0,
  "metadata": {
    "colab": {
      "provenance": []
    },
    "kernelspec": {
      "name": "python3",
      "display_name": "Python 3"
    },
    "language_info": {
      "name": "python"
    }
  },
  "cells": [
    {
      "cell_type": "code",
      "execution_count": null,
      "metadata": {
        "id": "-Q1DytTyzp2O"
      },
      "outputs": [],
      "source": [
        "import cv2\n",
        "import numpy as np\n",
        "import os\n",
        "\n",
        "cascadePath = './haarcascade_frontalface_default.xml'\n",
        "faceCascade = cv2.CascadeClassifier(cascadePath)\n",
        "\n",
        "font = cv2.FONT_HERSHEY_SIMPLEX\n",
        "cam = cv2.VideoCapture(0)\n",
        "cam.set(3, 640)  # set video widht\n",
        "cam.set(4, 480)  # set video height\n",
        "minW = 0.1 * cam.get(3)\n",
        "minH = 0.1 * cam.get(4)\n",
        "\n",
        "while True:\n",
        "    ret, img = cam.read()\n",
        "    # img = cv2.flip(img, -1)  # Flip vertically\n",
        "    gray = cv2.cvtColor(img, cv2.COLOR_BGR2GRAY)\n",
        "    faces = faceCascade.detectMultiScale(\n",
        "        gray,\n",
        "        scaleFactor=1.2,\n",
        "        minNeighbors=5,\n",
        "        minSize=(int(minW), int(minH)),\n",
        "    )\n",
        "\n",
        "    for (x, y, w, h) in faces:\n",
        "        cv2.rectangle(img, (x, y), (x + w, y + h), (0, 255, 0), 2)\n",
        "    cv2.imshow('camera', img)\n",
        "    k = cv2.waitKey(10) & 0xff\n",
        "    if k == 27:\n",
        "        break\n",
        "cam.release()\n",
        "cv2.destroyAllWindows()"
      ]
    }
  ]
}